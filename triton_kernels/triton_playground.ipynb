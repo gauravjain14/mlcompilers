{
 "cells": [
  {
   "cell_type": "code",
   "execution_count": 8,
   "metadata": {},
   "outputs": [],
   "source": [
    "import torch\n",
    "import triton\n",
    "import triton.language as tl"
   ]
  },
  {
   "cell_type": "code",
   "execution_count": null,
   "metadata": {},
   "outputs": [],
   "source": [
    "DEVICE = 'cuda:0'\n",
    "torch_device = torch.device(DEVICE)"
   ]
  },
  {
   "cell_type": "markdown",
   "metadata": {},
   "source": [
    "## Kernel to load every other element from a tensor"
   ]
  },
  {
   "cell_type": "code",
   "execution_count": 20,
   "metadata": {},
   "outputs": [],
   "source": [
    "@triton.jit\n",
    "def stride_copy_kernel(in_ptr, out_ptr, N, BLOCK_SIZE: tl.constexpr):\n",
    "    pid = tl.program_id(0)\n",
    "    offsets = pid * BLOCK_SIZE + tl.arange(0, BLOCK_SIZE)\n",
    "\n",
    "    # Mask for input (every other element)\n",
    "    input_mask = (offsets * 2) < N\n",
    "    \n",
    "    # Mask for output (contiguous elements)\n",
    "    output_mask = offsets < (N // 2)\n",
    "\n",
    "    inp_data = tl.load(in_ptr + (2 * offsets), mask=input_mask)\n",
    "    alt_inp_data = tl.load(in_ptr + (2 * offsets + 1), mask=input_mask)\n",
    "    tl.store(out_ptr + offsets, alt_inp_data, mask=output_mask)"
   ]
  },
  {
   "cell_type": "code",
   "execution_count": 21,
   "metadata": {},
   "outputs": [],
   "source": [
    "# Wrapper function to launch the kernel\n",
    "def stride_copy_wrapper(input_tensor, output_tensor):\n",
    "    # Assume last dimension is the one to stride over\n",
    "    n_elements = input_tensor.shape[-1]\n",
    "    assert n_elements % 2 == 0, \"Input tensor must have an even number of elements\"\n",
    "    \n",
    "    BLOCK_SIZE = 64\n",
    "    grid = (triton.cdiv(n_elements // 2, BLOCK_SIZE),)\n",
    "    \n",
    "    stride_copy_kernel[grid](\n",
    "        input_tensor, \n",
    "        output_tensor, \n",
    "        n_elements, \n",
    "        BLOCK_SIZE\n",
    "    )"
   ]
  },
  {
   "cell_type": "code",
   "execution_count": 22,
   "metadata": {},
   "outputs": [
    {
     "name": "stdout",
     "output_type": "stream",
     "text": [
      "tensor([  1.,   3.,   5.,   7.,   9.,  11.,  13.,  15.,  17.,  19.,  21.,  23.,\n",
      "         25.,  27.,  29.,  31.,  33.,  35.,  37.,  39.,  41.,  43.,  45.,  47.,\n",
      "         49.,  51.,  53.,  55.,  57.,  59.,  61.,  63.,  65.,  67.,  69.,  71.,\n",
      "         73.,  75.,  77.,  79.,  81.,  83.,  85.,  87.,  89.,  91.,  93.,  95.,\n",
      "         97.,  99., 101., 103., 105., 107., 109., 111., 113., 115., 117., 119.,\n",
      "        121., 123., 125., 127., 129., 131., 133., 135., 137., 139., 141., 143.,\n",
      "        145., 147., 149., 151., 153., 155., 157., 159., 161., 163., 165., 167.,\n",
      "        169., 171., 173., 175., 177., 179., 181., 183., 185., 187., 189., 191.,\n",
      "        193., 195., 197., 199., 201., 203., 205., 207., 209., 211., 213., 215.,\n",
      "        217., 219., 221., 223., 225., 227., 229., 231., 233., 235., 237., 239.,\n",
      "        241., 243., 245., 247., 249., 251., 253., 255., 257., 259., 261., 263.,\n",
      "        265., 267., 269., 271., 273., 275., 277., 279., 281., 283., 285., 287.,\n",
      "        289., 291., 293., 295., 297., 299.], device='cuda:0')\n"
     ]
    }
   ],
   "source": [
    "# Create input tensor\n",
    "input_tensor = torch.arange(300, dtype=torch.float32, device='cuda')\n",
    "# Create output tensor to hold the result\n",
    "output_tensor = torch.empty(150, dtype=torch.float32, device='cuda')\n",
    "\n",
    "# Call the wrapper function\n",
    "stride_copy_wrapper(input_tensor, output_tensor)\n",
    "\n",
    "# Verify the result\n",
    "print(output_tensor)  # Should contain [1, 3, 5, ..., 31]"
   ]
  },
  {
   "cell_type": "code",
   "execution_count": null,
   "metadata": {},
   "outputs": [],
   "source": []
  },
  {
   "cell_type": "markdown",
   "metadata": {},
   "source": [
    "## RoPE Forward Pass Implementation\n",
    "\n",
    "A work in progress implementation of RoPE forward pass in Triton.\n",
    "Trying to understand the micro kernels required to make this efficient. "
   ]
  },
  {
   "cell_type": "code",
   "execution_count": 77,
   "metadata": {},
   "outputs": [],
   "source": [
    "torch.manual_seed(0)\n",
    "\n",
    "# The d-head dimension\n",
    "n_elements = 256"
   ]
  },
  {
   "cell_type": "code",
   "execution_count": 26,
   "metadata": {},
   "outputs": [],
   "source": [
    "# Write the initial implementation for the RoPE kernel in Triton\n",
    "import triton\n",
    "import triton.language as tl\n",
    "import torch\n",
    "\n",
    "@triton.jit\n",
    "def rope_kernel(\n",
    "    q_ptr,\n",
    "    k_ptr,\n",
    "    cos_ptr,\n",
    "    sin_ptr,\n",
    "    out_ptr,\n",
    "    n_elements,\n",
    "    BLOCK_SIZE: tl.constexpr  # Block size for parallel processing\n",
    "):\n",
    "    # Define the program's index in the grid\n",
    "    pid = tl.program_id(0)\n",
    "\n",
    "    offsets = pid * BLOCK_SIZE + tl.arange(0, BLOCK_SIZE)\n",
    "    # Mask for input (every other element)\n",
    "    input_mask = (offsets * 2) < n_elements\n",
    "    # Mask for loading the sinusoid values, up to dmodel // 2\n",
    "    sinusoid_mask = offsets < (n_elements // 2)\n",
    "    \n",
    "    q_real = tl.load(q_ptr + (2 * offsets), mask=input_mask)\n",
    "    q_imag = tl.load(q_ptr + (2 * offsets + 1), mask=input_mask)\n",
    "    k_real = tl.load(k_ptr + (2 * offsets), mask=input_mask)\n",
    "    k_imag = tl.load(k_ptr + (2 * offsets + 1), mask=input_mask)\n",
    "\n",
    "    cos = tl.load(cos_ptr + offsets, mask=sinusoid_mask)\n",
    "    sin = tl.load(sin_ptr + offsets, mask=sinusoid_mask)\n",
    "\n",
    "    q_rotated_real = q_real * cos - q_imag * sin\n",
    "    q_rotated_imag = q_real * sin + q_imag * cos\n",
    "    k_rotated_real = k_real * cos - k_imag * sin\n",
    "    k_rotated_imag = k_real * sin + k_imag * cos\n",
    "\n",
    "    # Store rotated vectors back to memory\n",
    "    output_mask = offsets < n_elements\n",
    "    tl.store(out_ptr + offsets * 2, q_rotated_real, mask=output_mask)\n",
    "    tl.store(out_ptr + offsets * 2 + 1, q_rotated_imag, mask=output_mask)\n",
    "    # tl.store(out_ptr + n_elements * 2 + offsets * 2, k_rotated_real, mask=output_mask)\n",
    "    # tl.store(out_ptr + n_elements * 2 + offsets * 2 + 1, k_rotated_imag, mask=output_mask)\n"
   ]
  },
  {
   "cell_type": "code",
   "execution_count": 91,
   "metadata": {},
   "outputs": [],
   "source": [
    "import torch.nn as nn\n",
    "class RoPEEmbeddings(nn.Module):\n",
    "    def __init__(self, dim, max_seq_len=4096, base=10000):\n",
    "        super(RoPEEmbeddings, self).__init__()\n",
    "        assert dim % 2 == 0, \"dim must be even for RoPE.\"\n",
    "        self.dim = dim\n",
    "        self.max_seq_len = max_seq_len\n",
    "        self.base = base\n",
    "\n",
    "        self.register_buffer(\"inv_freq\",\n",
    "            1.0 / (self.base ** (torch.arange(0, dim, 2).float() / dim)), persistent=False)\n",
    "\n",
    "        self.build_rope_cache()\n",
    "\n",
    "    # Add the function to rotate half\n",
    "    def rotate_half(self, x): \n",
    "        x1, x2 = x.chunk(2, dim=-1)\n",
    "        return torch.cat((-x2, x1), dim=-1)\n",
    "    \n",
    "    def build_rope_cache(self):\n",
    "        # Use this to precompute the RoPE cache\n",
    "        pos_array = torch.arange(self.max_seq_len)\n",
    "        theta = pos_array.unsqueeze(-1) * self.inv_freq\n",
    "        cos = torch.cos(theta)\n",
    "        sin = torch.sin(theta)\n",
    "        #\n",
    "        # Disable any interleaving or duplicating. CUDA doesn't need it.\n",
    "        # cos = torch.cat([cos, cos], dim=-1)\n",
    "        # sin = torch.cat([sin, sin], dim=-1)\n",
    "        # instead do y[2i], y[2i+1] = x[i], x[i]\n",
    "        # cos = torch.repeat_interleave(cos, repeats=2, dim=-1)\n",
    "        # sin = torch.repeat_interleave(sin, repeats=2, dim=-1)\n",
    "\n",
    "        self.register_buffer(\"cos\", cos, persistent=False)\n",
    "        self.register_buffer(\"sin\", sin, persistent=False)\n",
    "\n",
    "    def forward(self, x, positions=None):\n",
    "        # Postitions is unused for now.\n",
    "        out_real = x[..., ::2] * self.cos - x[..., 1::2] * self.sin\n",
    "        out_imag = x[..., ::2] * self.sin + x[..., 1::2] * self.cos\n",
    "        # Is there a better way to do this?\n",
    "        out_interleaved = torch.cat((out_real.unsqueeze(-1),\n",
    "                                    out_imag.unsqueeze(-1)), dim=-1)\n",
    "        return out_interleaved.flatten(-2)\n",
    "\n",
    "\n",
    "rope_ref = RoPEEmbeddings(n_elements, max_seq_len=1).to(DEVICE)"
   ]
  },
  {
   "cell_type": "code",
   "execution_count": 47,
   "metadata": {},
   "outputs": [],
   "source": [
    "DEVICE = 'cuda:0' # There should be a better way to capture this\n",
    "q_ptr = torch.randn((1, n_elements), device=DEVICE)\n",
    "k_ptr = torch.randn((1, n_elements), device=DEVICE)\n",
    "out_ptr = torch.zeros((1, n_elements), device=DEVICE)\n",
    "\n",
    "torch_device = torch.device(DEVICE)\n",
    "assert q_ptr.device == torch_device and k_ptr.device == torch_device and \\\n",
    "    out_ptr.device == torch_device"
   ]
  },
  {
   "cell_type": "code",
   "execution_count": 54,
   "metadata": {},
   "outputs": [
    {
     "data": {
      "text/plain": [
       "<triton.compiler.compiler.CompiledKernel at 0x7df74ba00150>"
      ]
     },
     "execution_count": 54,
     "metadata": {},
     "output_type": "execute_result"
    }
   ],
   "source": [
    "# Use a 1D grid.\n",
    "grid = lambda meta: (triton.cdiv(n_elements, meta['BLOCK_SIZE']), )\n",
    "rope_kernel[grid](\n",
    "    q_ptr,\n",
    "    k_ptr,\n",
    "    rope_ref.cos,\n",
    "    rope_ref.sin,\n",
    "    out_ptr,\n",
    "    n_elements,\n",
    "    BLOCK_SIZE=32\n",
    ")"
   ]
  },
  {
   "cell_type": "code",
   "execution_count": 92,
   "metadata": {},
   "outputs": [],
   "source": [
    "import torch\n",
    "from torchtune.modules import RotaryPositionalEmbeddings\n",
    "\n",
    "# Initialize the RoPE module\n",
    "rope = RotaryPositionalEmbeddings(dim=n_elements, max_seq_len=1).to(q_ptr.device)\n",
    "\n",
    "# Apply RoPE to the input tensor\n",
    "x_transformed = rope(q_ptr.view(1, 1, 1, n_elements))\n"
   ]
  },
  {
   "cell_type": "code",
   "execution_count": 96,
   "metadata": {},
   "outputs": [
    {
     "name": "stdout",
     "output_type": "stream",
     "text": [
      "True\n",
      "True\n"
     ]
    }
   ],
   "source": [
    "# Comparing `torchtune` RopeEmbeddings with our implementation\n",
    "# and Triton implementation.\n",
    "print(torch.allclose(x_transformed, rope_ref(q_ptr)))\n",
    "print(torch.allclose(x_transformed, out_ptr))"
   ]
  },
  {
   "cell_type": "markdown",
   "metadata": {},
   "source": []
  },
  {
   "cell_type": "markdown",
   "metadata": {},
   "source": [
    "## Flash Attention\n",
    "\n",
    "Following the tutorial from https://www.youtube.com/watch?v=zy8ChVd_oTM&t=7049s"
   ]
  },
  {
   "cell_type": "code",
   "execution_count": 1,
   "metadata": {},
   "outputs": [],
   "source": [
    "# If we want to define a function that we can backpropagate through, the class needs to be\n",
    "# derived from torch.autograd.Function.\n",
    "\n",
    "class TritonAttention(torch.autograd.Function):\n",
    "    @staticmethod\n",
    "    def forward(ctx, Q, K, V, causal, softmax_scale):\n",
    "        # ctx allows us to save intermediate results for backward pass.\n",
    "\n",
    "        HEAD_DIM_Q, HEAD_DIM_K, HEAD_DIM_V = Q.shape[-1], K.shape[-1], V.shape[-1]\n",
    "\n",
    "        BATCH_SIZE, NUM_HEADS, SEQ_LEN, HEAD_DIM = Q.shape\n",
    "\n",
    "        O = torch.empty_like(Q)\n",
    "\n",
    "        # What is stage?\n",
    "        stage = 3 if causal else 1\n",
    "        \n",
    "        # Parallelize over the batch dimension and the number of heads\n",
    "        grid = lambda args: (\n",
    "            triton.cdiv(SEQ_LEN, args['BLOCK_SIZE_Q']),\n",
    "            BATCH_SIZE * NUM_HEADS,\n",
    "        )"
   ]
  },
  {
   "cell_type": "code",
   "execution_count": 94,
   "metadata": {},
   "outputs": [
    {
     "data": {
      "text/plain": [
       "True"
      ]
     },
     "execution_count": 94,
     "metadata": {},
     "output_type": "execute_result"
    }
   ],
   "source": [
    "import math\n",
    "\n",
    "def test_op(BATCH_SIZE, NUM_HEADS, SEQ_LEN, HEAD_DIM, causal, dtype=torch.float16, DEVICE='cuda'):\n",
    "    Q = (torch.empty(\n",
    "            (BATCH_SIZE, NUM_HEADS, SEQ_LEN, HEAD_DIM), device=DEVICE, dtype=dtype\n",
    "        )\n",
    "        .normal_(mean=0.0, std=0.5)\n",
    "    )\n",
    "    K = (torch.empty(\n",
    "            (BATCH_SIZE, NUM_HEADS, SEQ_LEN, HEAD_DIM), device=DEVICE, dtype=dtype\n",
    "        )\n",
    "        .normal_(mean=0.0, std=0.5)\n",
    "    )\n",
    "    V = (torch.empty(\n",
    "            (BATCH_SIZE, NUM_HEADS, SEQ_LEN, HEAD_DIM), device=DEVICE, dtype=dtype\n",
    "        )\n",
    "        .normal_(mean=0.0, std=0.5)\n",
    "    )\n",
    "\n",
    "    softmax_scale = 1.0 / math.sqrt(HEAD_DIM)\n",
    "    # Backpropagate through the output.\n",
    "    dO = torch.randn_like(Q)\n",
    "\n",
    "    mask = torch.tril(torch.ones(SEQ_LEN, SEQ_LEN), device=DEVICE)\n",
    "    P = torch.matmul(Q, K.transpose(2, 3)) * softmax_scale\n",
    "    \n",
    "    if causal:\n",
    "        P[..., mask == 0] = float('-inf')\n",
    "    P = torch.softmax(P, dim=-1).half()\n",
    "    ref_O = torch.matmul(P, V)\n",
    "    ref_O.backward(dO)\n",
    "\n",
    "    ref_dV, V.grad = V.grad.clone(), None\n",
    "    ref_dP, P.grad = P.grad.clone(), None\n",
    "    ref_dK, K.grad = K.grad.clone(), None\n",
    "    ref_dQ, Q.grad = Q.grad.clone(), None\n",
    "\n",
    "    # Compare with Triton implementation\n",
    "    \n",
    "    "
   ]
  },
  {
   "cell_type": "code",
   "execution_count": null,
   "metadata": {},
   "outputs": [],
   "source": []
  },
  {
   "cell_type": "code",
   "execution_count": null,
   "metadata": {},
   "outputs": [],
   "source": []
  }
 ],
 "metadata": {
  "kernelspec": {
   "display_name": "base",
   "language": "python",
   "name": "python3"
  },
  "language_info": {
   "codemirror_mode": {
    "name": "ipython",
    "version": 3
   },
   "file_extension": ".py",
   "mimetype": "text/x-python",
   "name": "python",
   "nbconvert_exporter": "python",
   "pygments_lexer": "ipython3",
   "version": "3.11.7"
  }
 },
 "nbformat": 4,
 "nbformat_minor": 2
}
